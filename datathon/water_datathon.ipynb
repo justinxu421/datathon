{
 "cells": [
  {
   "cell_type": "code",
   "execution_count": 325,
   "metadata": {
    "collapsed": true
   },
   "outputs": [],
   "source": [
    "import pandas as pd\n",
    "import numpy as np\n",
    "import matplotlib.pyplot as plt\n",
    "%matplotlib inline"
   ]
  },
  {
   "cell_type": "code",
   "execution_count": 326,
   "metadata": {
    "collapsed": true
   },
   "outputs": [],
   "source": [
    "chemicals = pd.read_csv(\"chemicals.csv\")"
   ]
  },
  {
   "cell_type": "code",
   "execution_count": 327,
   "metadata": {},
   "outputs": [
    {
     "data": {
      "text/plain": [
       "array(['Uranium', 'Arsenic', 'DEHP', 'Nitrates', 'Halo-Acetic Acid',\n",
       "       'Trihalomethane'], dtype=object)"
      ]
     },
     "execution_count": 327,
     "metadata": {},
     "output_type": "execute_result"
    }
   ],
   "source": [
    "chemicals[\"chemical_species\"].unique()"
   ]
  },
  {
   "cell_type": "code",
   "execution_count": 328,
   "metadata": {},
   "outputs": [
    {
     "data": {
      "text/plain": [
       "array(['micrograms/L', 'milligrams/L'], dtype=object)"
      ]
     },
     "execution_count": 328,
     "metadata": {},
     "output_type": "execute_result"
    }
   ],
   "source": [
    "chemicals[\"unit_measurement\"].unique()"
   ]
  },
  {
   "cell_type": "code",
   "execution_count": 329,
   "metadata": {
    "collapsed": true
   },
   "outputs": [],
   "source": [
    "earnings = pd.read_csv(\"earnings.csv\", encoding='latin-1')"
   ]
  },
  {
   "cell_type": "code",
   "execution_count": 330,
   "metadata": {},
   "outputs": [
    {
     "data": {
      "text/plain": [
       "Index(['geo_id', 'fips', 'county', 'total_med', 'total_agri_fish_mine',\n",
       "       'agri_fish_hunt', 'mining_quarrying_oilgas_extract', 'construction',\n",
       "       'manufacturing', 'wholesale_trade', 'retail_trade',\n",
       "       'transport_warehouse_utilities', 'transport_warehouse', 'utilities',\n",
       "       'information', 'fin_ins_realest', 'fin_ins', 'realest_rent_lease',\n",
       "       'total_prof_sci_mgmt_admin', 'prof_sci_tech', 'mgmt', 'admin_sup',\n",
       "       'total_edu_health_social', 'edu_serv', 'health_social',\n",
       "       'total_arts_ent_acc_food', 'arts_ent_rec', 'acc_food_serv', 'other_ser',\n",
       "       'pub_admin', 'year'],\n",
       "      dtype='object')"
      ]
     },
     "execution_count": 330,
     "metadata": {},
     "output_type": "execute_result"
    }
   ],
   "source": [
    "earnings.columns"
   ]
  },
  {
   "cell_type": "code",
   "execution_count": 331,
   "metadata": {
    "collapsed": true
   },
   "outputs": [],
   "source": [
    "industries = pd.read_csv(\"industry_occupation.csv\", encoding='latin-1')"
   ]
  },
  {
   "cell_type": "code",
   "execution_count": 332,
   "metadata": {},
   "outputs": [
    {
     "name": "stderr",
     "output_type": "stream",
     "text": [
      "C:\\Users\\Justin Xu\\Anaconda3\\lib\\site-packages\\ipykernel_launcher.py:3: SettingWithCopyWarning: \n",
      "A value is trying to be set on a copy of a slice from a DataFrame\n",
      "\n",
      "See the caveats in the documentation: http://pandas.pydata.org/pandas-docs/stable/indexing.html#indexing-view-versus-copy\n",
      "  This is separate from the ipykernel package so we can avoid doing imports until\n",
      "C:\\Users\\Justin Xu\\Anaconda3\\lib\\site-packages\\pandas\\core\\generic.py:5233: SettingWithCopyWarning: \n",
      "A value is trying to be set on a copy of a slice from a DataFrame\n",
      "\n",
      "See the caveats in the documentation: http://pandas.pydata.org/pandas-docs/stable/indexing.html#indexing-view-versus-copy\n",
      "  self._update_inplace(new_data)\n",
      "C:\\Users\\Justin Xu\\Anaconda3\\lib\\site-packages\\IPython\\core\\interactiveshell.py:2862: SettingWithCopyWarning: \n",
      "A value is trying to be set on a copy of a slice from a DataFrame\n",
      "\n",
      "See the caveats in the documentation: http://pandas.pydata.org/pandas-docs/stable/indexing.html#indexing-view-versus-copy\n",
      "  exec(code_obj, self.user_global_ns, self.user_ns)\n"
     ]
    }
   ],
   "source": [
    "contaminants= chemicals[['county','fips','year', 'pop_served','chemical_species', 'value', 'unit_measurement']]\n",
    "# contaminants = contaminants.replace({'contaminant_level': {'Less than or equal MCL': 1, 'Non Detect':0, 'Greater than MCL':2}})\n",
    "contaminants.value[contaminants['unit_measurement'] == 'milligrams/L'] *= 1000\n",
    "contaminants = contaminants[contaminants['pop_served'] != 0]"
   ]
  },
  {
   "cell_type": "code",
   "execution_count": 333,
   "metadata": {},
   "outputs": [
    {
     "data": {
      "text/html": [
       "<div>\n",
       "<style>\n",
       "    .dataframe thead tr:only-child th {\n",
       "        text-align: right;\n",
       "    }\n",
       "\n",
       "    .dataframe thead th {\n",
       "        text-align: left;\n",
       "    }\n",
       "\n",
       "    .dataframe tbody tr th {\n",
       "        vertical-align: top;\n",
       "    }\n",
       "</style>\n",
       "<table border=\"1\" class=\"dataframe\">\n",
       "  <thead>\n",
       "    <tr style=\"text-align: right;\">\n",
       "      <th></th>\n",
       "      <th>county</th>\n",
       "      <th>fips</th>\n",
       "      <th>year</th>\n",
       "      <th>pop_served</th>\n",
       "      <th>chemical_species</th>\n",
       "      <th>value</th>\n",
       "      <th>unit_measurement</th>\n",
       "    </tr>\n",
       "  </thead>\n",
       "  <tbody>\n",
       "    <tr>\n",
       "      <th>0</th>\n",
       "      <td>Alameda</td>\n",
       "      <td>6001</td>\n",
       "      <td>2000</td>\n",
       "      <td>57200</td>\n",
       "      <td>Uranium</td>\n",
       "      <td>1.54</td>\n",
       "      <td>micrograms/L</td>\n",
       "    </tr>\n",
       "    <tr>\n",
       "      <th>1</th>\n",
       "      <td>Alameda</td>\n",
       "      <td>6001</td>\n",
       "      <td>2000</td>\n",
       "      <td>26400</td>\n",
       "      <td>Uranium</td>\n",
       "      <td>1.64</td>\n",
       "      <td>micrograms/L</td>\n",
       "    </tr>\n",
       "    <tr>\n",
       "      <th>2</th>\n",
       "      <td>Alameda</td>\n",
       "      <td>6001</td>\n",
       "      <td>2000</td>\n",
       "      <td>70600</td>\n",
       "      <td>Uranium</td>\n",
       "      <td>1.64</td>\n",
       "      <td>micrograms/L</td>\n",
       "    </tr>\n",
       "    <tr>\n",
       "      <th>3</th>\n",
       "      <td>Alameda</td>\n",
       "      <td>6001</td>\n",
       "      <td>2000</td>\n",
       "      <td>72500</td>\n",
       "      <td>Uranium</td>\n",
       "      <td>1.64</td>\n",
       "      <td>micrograms/L</td>\n",
       "    </tr>\n",
       "    <tr>\n",
       "      <th>4</th>\n",
       "      <td>Alameda</td>\n",
       "      <td>6001</td>\n",
       "      <td>2000</td>\n",
       "      <td>100</td>\n",
       "      <td>Uranium</td>\n",
       "      <td>4.51</td>\n",
       "      <td>micrograms/L</td>\n",
       "    </tr>\n",
       "  </tbody>\n",
       "</table>\n",
       "</div>"
      ],
      "text/plain": [
       "    county  fips  year  pop_served chemical_species  value unit_measurement\n",
       "0  Alameda  6001  2000       57200          Uranium   1.54     micrograms/L\n",
       "1  Alameda  6001  2000       26400          Uranium   1.64     micrograms/L\n",
       "2  Alameda  6001  2000       70600          Uranium   1.64     micrograms/L\n",
       "3  Alameda  6001  2000       72500          Uranium   1.64     micrograms/L\n",
       "4  Alameda  6001  2000         100          Uranium   4.51     micrograms/L"
      ]
     },
     "execution_count": 333,
     "metadata": {},
     "output_type": "execute_result"
    }
   ],
   "source": [
    "contaminants.head()"
   ]
  },
  {
   "cell_type": "code",
   "execution_count": 137,
   "metadata": {
    "collapsed": true
   },
   "outputs": [],
   "source": [
    "def weighted_average(df):\n",
    "    pop = df['pop_served']\n",
    "    level = df['value']\n",
    "    return (pop*level).sum() / pop.sum()\n",
    "    \n",
    "contaminant_levels = contaminants.groupby(['fips', 'year', 'chemical_species']).apply(weighted_average)"
   ]
  },
  {
   "cell_type": "code",
   "execution_count": 355,
   "metadata": {
    "collapsed": true
   },
   "outputs": [],
   "source": [
    "df = contaminant_levels.unstack()\n",
    "earnings_med = earnings[['fips', 'year', 'total_med']]\n",
    "dropped_industries = industries.drop(['county', 'geo_id'], axis=1)\n",
    "earnings_med = earnings_med.set_index(['fips', 'year'])\n",
    "dropped_industries = dropped_industries.set_index(['fips', 'year'])\n",
    "df = df.join(earnings_med)\n",
    "df = df.join(dropped_industries)\n",
    "df.index = pd.MultiIndex.from_tuples(df.index, names=['fips', 'years'])"
   ]
  },
  {
   "cell_type": "code",
   "execution_count": 334,
   "metadata": {},
   "outputs": [
    {
     "data": {
      "text/plain": [
       "(array([  1.72410000e+04,   2.64300000e+03,   1.18400000e+03,\n",
       "          4.67000000e+02,   1.71000000e+02,   6.10000000e+01,\n",
       "          4.00000000e+00,   3.00000000e+00,   1.00000000e+00,\n",
       "          1.00000000e+00]),\n",
       " array([     0.        ,   1544.26603746,   3088.53207493,   4632.79811239,\n",
       "          6177.06414986,   7721.33018732,   9265.59622479,  10809.86226225,\n",
       "         12354.12829972,  13898.39433718,  15442.66037465]),\n",
       " <a list of 10 Patch objects>)"
      ]
     },
     "execution_count": 334,
     "metadata": {},
     "output_type": "execute_result"
    },
    {
     "data": {
      "image/png": "[encoded data removed]",
      "text/plain": [
       "<matplotlib.figure.Figure at 0x270082bc0b8>"
      ]
     },
     "metadata": {},
     "output_type": "display_data"
    }
   ],
   "source": [
    "c = 'Nitrates'\n",
    "plt.hist(df[c][df[c] == df[c]], bins=10)"
   ]
  },
  {
   "cell_type": "code",
   "execution_count": 335,
   "metadata": {},
   "outputs": [
    {
     "data": {
      "text/plain": [
       "Index(['years', 'Arsenic', 'DEHP', 'Halo-Acetic Acid', 'Nitrates',\n",
       "       'Trihalomethane', 'Uranium', 'total_med', 'total_employed',\n",
       "       'agriculture', 'construction', 'manufacturing', 'wholesale_trade',\n",
       "       'retail_trade', 'transport_utilities', 'information',\n",
       "       'finance_insurance_realestate', 'prof_scientific_waste', 'edu_health',\n",
       "       'arts_recreation', 'other', 'public_admin'],\n",
       "      dtype='object')"
      ]
     },
     "execution_count": 335,
     "metadata": {},
     "output_type": "execute_result"
    }
   ],
   "source": [
    "df.columns"
   ]
  },
  {
   "cell_type": "code",
   "execution_count": 637,
   "metadata": {},
   "outputs": [
    {
     "name": "stdout",
     "output_type": "stream",
     "text": [
      "Arsenic\n"
     ]
    },
    {
     "data": {
      "image/png": "[encoded data removed]",
      "text/plain": [
       "<matplotlib.figure.Figure at 0x2702be3ae48>"
      ]
     },
     "metadata": {},
     "output_type": "display_data"
    },
    {
     "name": "stdout",
     "output_type": "stream",
     "text": [
      "DEHP\n"
     ]
    },
    {
     "data": {
      "image/png": "[encoded data removed]",
      "text/plain": [
       "<matplotlib.figure.Figure at 0x2701cc8bc50>"
      ]
     },
     "metadata": {},
     "output_type": "display_data"
    },
    {
     "name": "stdout",
     "output_type": "stream",
     "text": [
      "Halo-Acetic Acid\n"
     ]
    },
    {
     "data": {
      "image/png": "[encoded data removed]",
      "text/plain": [
       "<matplotlib.figure.Figure at 0x2701ccbf978>"
      ]
     },
     "metadata": {},
     "output_type": "display_data"
    },
    {
     "name": "stdout",
     "output_type": "stream",
     "text": [
      "Nitrates\n"
     ]
    },
    {
     "data": {
      "image/png": "[encoded data removed]",
      "text/plain": [
       "<matplotlib.figure.Figure at 0x2701d72cc18>"
      ]
     },
     "metadata": {},
     "output_type": "display_data"
    },
    {
     "name": "stdout",
     "output_type": "stream",
     "text": [
      "Trihalomethane\n"
     ]
    },
    {
     "data": {
      "image/png": "[encoded data removed]",
      "text/plain": [
       "<matplotlib.figure.Figure at 0x2701ce07f28>"
      ]
     },
     "metadata": {},
     "output_type": "display_data"
    },
    {
     "name": "stdout",
     "output_type": "stream",
     "text": [
      "Uranium\n"
     ]
    },
    {
     "data": {
      "image/png": "[encoded data removed]",
      "text/plain": [
       "<matplotlib.figure.Figure at 0x2701ce05128>"
      ]
     },
     "metadata": {},
     "output_type": "display_data"
    }
   ],
   "source": [
    "x = np.arange(80000)\n",
    "for chemical in ['Arsenic', 'DEHP', 'Halo-Acetic Acid', 'Nitrates', 'Trihalomethane','Uranium']:\n",
    "    plt.scatter(df['total_med'],df[chemical], label=None)\n",
    "    plt.plot(x, np.ones(80000)*30, '-', label = 'danger level')\n",
    "    print(chemical)\n",
    "    plt.ylim(0, np.percentile(df[chemical].dropna(),99))\n",
    "    plt.title(chemical)\n",
    "    plt.legend()\n",
    "    plt.show()\n"
   ]
  },
  {
   "cell_type": "code",
   "execution_count": 356,
   "metadata": {
    "scrolled": true
   },
   "outputs": [
    {
     "data": {
      "text/html": [
       "<div>\n",
       "<style>\n",
       "    .dataframe thead tr:only-child th {\n",
       "        text-align: right;\n",
       "    }\n",
       "\n",
       "    .dataframe thead th {\n",
       "        text-align: left;\n",
       "    }\n",
       "\n",
       "    .dataframe tbody tr th {\n",
       "        vertical-align: top;\n",
       "    }\n",
       "</style>\n",
       "<table border=\"1\" class=\"dataframe\">\n",
       "  <thead>\n",
       "    <tr style=\"text-align: right;\">\n",
       "      <th></th>\n",
       "      <th>years</th>\n",
       "      <th>Arsenic</th>\n",
       "      <th>DEHP</th>\n",
       "      <th>Halo-Acetic Acid</th>\n",
       "      <th>Nitrates</th>\n",
       "      <th>Trihalomethane</th>\n",
       "      <th>Uranium</th>\n",
       "      <th>total_med</th>\n",
       "      <th>total_employed</th>\n",
       "      <th>agriculture</th>\n",
       "      <th>...</th>\n",
       "      <th>wholesale_trade</th>\n",
       "      <th>retail_trade</th>\n",
       "      <th>transport_utilities</th>\n",
       "      <th>information</th>\n",
       "      <th>finance_insurance_realestate</th>\n",
       "      <th>prof_scientific_waste</th>\n",
       "      <th>edu_health</th>\n",
       "      <th>arts_recreation</th>\n",
       "      <th>other</th>\n",
       "      <th>public_admin</th>\n",
       "    </tr>\n",
       "    <tr>\n",
       "      <th>fips</th>\n",
       "      <th></th>\n",
       "      <th></th>\n",
       "      <th></th>\n",
       "      <th></th>\n",
       "      <th></th>\n",
       "      <th></th>\n",
       "      <th></th>\n",
       "      <th></th>\n",
       "      <th></th>\n",
       "      <th></th>\n",
       "      <th></th>\n",
       "      <th></th>\n",
       "      <th></th>\n",
       "      <th></th>\n",
       "      <th></th>\n",
       "      <th></th>\n",
       "      <th></th>\n",
       "      <th></th>\n",
       "      <th></th>\n",
       "      <th></th>\n",
       "      <th></th>\n",
       "    </tr>\n",
       "  </thead>\n",
       "  <tbody>\n",
       "    <tr>\n",
       "      <th>6001</th>\n",
       "      <td>2000</td>\n",
       "      <td>1.014271</td>\n",
       "      <td>1.500000</td>\n",
       "      <td>NaN</td>\n",
       "      <td>347.241137</td>\n",
       "      <td>NaN</td>\n",
       "      <td>1.617374</td>\n",
       "      <td>NaN</td>\n",
       "      <td>NaN</td>\n",
       "      <td>NaN</td>\n",
       "      <td>...</td>\n",
       "      <td>NaN</td>\n",
       "      <td>NaN</td>\n",
       "      <td>NaN</td>\n",
       "      <td>NaN</td>\n",
       "      <td>NaN</td>\n",
       "      <td>NaN</td>\n",
       "      <td>NaN</td>\n",
       "      <td>NaN</td>\n",
       "      <td>NaN</td>\n",
       "      <td>NaN</td>\n",
       "    </tr>\n",
       "    <tr>\n",
       "      <th>6001</th>\n",
       "      <td>2001</td>\n",
       "      <td>1.014283</td>\n",
       "      <td>1.500000</td>\n",
       "      <td>NaN</td>\n",
       "      <td>370.584590</td>\n",
       "      <td>NaN</td>\n",
       "      <td>0.640457</td>\n",
       "      <td>NaN</td>\n",
       "      <td>NaN</td>\n",
       "      <td>NaN</td>\n",
       "      <td>...</td>\n",
       "      <td>NaN</td>\n",
       "      <td>NaN</td>\n",
       "      <td>NaN</td>\n",
       "      <td>NaN</td>\n",
       "      <td>NaN</td>\n",
       "      <td>NaN</td>\n",
       "      <td>NaN</td>\n",
       "      <td>NaN</td>\n",
       "      <td>NaN</td>\n",
       "      <td>NaN</td>\n",
       "    </tr>\n",
       "    <tr>\n",
       "      <th>6001</th>\n",
       "      <td>2002</td>\n",
       "      <td>1.006312</td>\n",
       "      <td>1.561274</td>\n",
       "      <td>NaN</td>\n",
       "      <td>489.199983</td>\n",
       "      <td>NaN</td>\n",
       "      <td>1.900092</td>\n",
       "      <td>NaN</td>\n",
       "      <td>NaN</td>\n",
       "      <td>NaN</td>\n",
       "      <td>...</td>\n",
       "      <td>NaN</td>\n",
       "      <td>NaN</td>\n",
       "      <td>NaN</td>\n",
       "      <td>NaN</td>\n",
       "      <td>NaN</td>\n",
       "      <td>NaN</td>\n",
       "      <td>NaN</td>\n",
       "      <td>NaN</td>\n",
       "      <td>NaN</td>\n",
       "      <td>NaN</td>\n",
       "    </tr>\n",
       "    <tr>\n",
       "      <th>6001</th>\n",
       "      <td>2003</td>\n",
       "      <td>1.000000</td>\n",
       "      <td>1.500000</td>\n",
       "      <td>NaN</td>\n",
       "      <td>477.853148</td>\n",
       "      <td>NaN</td>\n",
       "      <td>0.777385</td>\n",
       "      <td>NaN</td>\n",
       "      <td>NaN</td>\n",
       "      <td>NaN</td>\n",
       "      <td>...</td>\n",
       "      <td>NaN</td>\n",
       "      <td>NaN</td>\n",
       "      <td>NaN</td>\n",
       "      <td>NaN</td>\n",
       "      <td>NaN</td>\n",
       "      <td>NaN</td>\n",
       "      <td>NaN</td>\n",
       "      <td>NaN</td>\n",
       "      <td>NaN</td>\n",
       "      <td>NaN</td>\n",
       "    </tr>\n",
       "    <tr>\n",
       "      <th>6001</th>\n",
       "      <td>2004</td>\n",
       "      <td>1.001428</td>\n",
       "      <td>1.500000</td>\n",
       "      <td>NaN</td>\n",
       "      <td>504.301684</td>\n",
       "      <td>NaN</td>\n",
       "      <td>1.280558</td>\n",
       "      <td>NaN</td>\n",
       "      <td>NaN</td>\n",
       "      <td>NaN</td>\n",
       "      <td>...</td>\n",
       "      <td>NaN</td>\n",
       "      <td>NaN</td>\n",
       "      <td>NaN</td>\n",
       "      <td>NaN</td>\n",
       "      <td>NaN</td>\n",
       "      <td>NaN</td>\n",
       "      <td>NaN</td>\n",
       "      <td>NaN</td>\n",
       "      <td>NaN</td>\n",
       "      <td>NaN</td>\n",
       "    </tr>\n",
       "  </tbody>\n",
       "</table>\n",
       "<p>5 rows × 22 columns</p>\n",
       "</div>"
      ],
      "text/plain": [
       "      years   Arsenic      DEHP  Halo-Acetic Acid    Nitrates  Trihalomethane  \\\n",
       "fips                                                                            \n",
       "6001   2000  1.014271  1.500000               NaN  347.241137             NaN   \n",
       "6001   2001  1.014283  1.500000               NaN  370.584590             NaN   \n",
       "6001   2002  1.006312  1.561274               NaN  489.199983             NaN   \n",
       "6001   2003  1.000000  1.500000               NaN  477.853148             NaN   \n",
       "6001   2004  1.001428  1.500000               NaN  504.301684             NaN   \n",
       "\n",
       "       Uranium  total_med  total_employed  agriculture      ...       \\\n",
       "fips                                                        ...        \n",
       "6001  1.617374        NaN             NaN          NaN      ...        \n",
       "6001  0.640457        NaN             NaN          NaN      ...        \n",
       "6001  1.900092        NaN             NaN          NaN      ...        \n",
       "6001  0.777385        NaN             NaN          NaN      ...        \n",
       "6001  1.280558        NaN             NaN          NaN      ...        \n",
       "\n",
       "      wholesale_trade  retail_trade  transport_utilities  information  \\\n",
       "fips                                                                    \n",
       "6001              NaN           NaN                  NaN          NaN   \n",
       "6001              NaN           NaN                  NaN          NaN   \n",
       "6001              NaN           NaN                  NaN          NaN   \n",
       "6001              NaN           NaN                  NaN          NaN   \n",
       "6001              NaN           NaN                  NaN          NaN   \n",
       "\n",
       "      finance_insurance_realestate  prof_scientific_waste  edu_health  \\\n",
       "fips                                                                    \n",
       "6001                           NaN                    NaN         NaN   \n",
       "6001                           NaN                    NaN         NaN   \n",
       "6001                           NaN                    NaN         NaN   \n",
       "6001                           NaN                    NaN         NaN   \n",
       "6001                           NaN                    NaN         NaN   \n",
       "\n",
       "      arts_recreation  other  public_admin  \n",
       "fips                                        \n",
       "6001              NaN    NaN           NaN  \n",
       "6001              NaN    NaN           NaN  \n",
       "6001              NaN    NaN           NaN  \n",
       "6001              NaN    NaN           NaN  \n",
       "6001              NaN    NaN           NaN  \n",
       "\n",
       "[5 rows x 22 columns]"
      ]
     },
     "execution_count": 356,
     "metadata": {},
     "output_type": "execute_result"
    }
   ],
   "source": [
    "new_df = df.reset_index()\n",
    "new_df = new_df.set_index('fips')\n",
    "new_df.head()"
   ]
  },
  {
   "cell_type": "code",
   "execution_count": 436,
   "metadata": {},
   "outputs": [],
   "source": [
    "# (df[df['years'] == 2016] - df[df['years'] == 2010]) \n",
    "chemical_df = new_df.loc[:, 'years':'Uranium']\n",
    "occupation_df = pd.concat([new_df.loc[:, 'years'], new_df.loc[:, 'total_med':'public_admin']], axis=1)"
   ]
  },
  {
   "cell_type": "code",
   "execution_count": 566,
   "metadata": {},
   "outputs": [
    {
     "data": {
      "text/html": [
       "<div>\n",
       "<style>\n",
       "    .dataframe thead tr:only-child th {\n",
       "        text-align: right;\n",
       "    }\n",
       "\n",
       "    .dataframe thead th {\n",
       "        text-align: left;\n",
       "    }\n",
       "\n",
       "    .dataframe tbody tr th {\n",
       "        vertical-align: top;\n",
       "    }\n",
       "</style>\n",
       "<table border=\"1\" class=\"dataframe\">\n",
       "  <thead>\n",
       "    <tr style=\"text-align: right;\">\n",
       "      <th></th>\n",
       "      <th>years</th>\n",
       "      <th>Arsenic</th>\n",
       "      <th>DEHP</th>\n",
       "      <th>Halo-Acetic Acid</th>\n",
       "      <th>Nitrates</th>\n",
       "      <th>Trihalomethane</th>\n",
       "      <th>Uranium</th>\n",
       "    </tr>\n",
       "    <tr>\n",
       "      <th>fips</th>\n",
       "      <th></th>\n",
       "      <th></th>\n",
       "      <th></th>\n",
       "      <th></th>\n",
       "      <th></th>\n",
       "      <th></th>\n",
       "      <th></th>\n",
       "    </tr>\n",
       "  </thead>\n",
       "  <tbody>\n",
       "    <tr>\n",
       "      <th>6001</th>\n",
       "      <td>2008.0</td>\n",
       "      <td>1.003892</td>\n",
       "      <td>1.555572</td>\n",
       "      <td>NaN</td>\n",
       "      <td>427.179037</td>\n",
       "      <td>NaN</td>\n",
       "      <td>0.966338</td>\n",
       "    </tr>\n",
       "    <tr>\n",
       "      <th>6003</th>\n",
       "      <td>2008.0</td>\n",
       "      <td>1.000000</td>\n",
       "      <td>1.500000</td>\n",
       "      <td>NaN</td>\n",
       "      <td>48.636260</td>\n",
       "      <td>NaN</td>\n",
       "      <td>1.478053</td>\n",
       "    </tr>\n",
       "    <tr>\n",
       "      <th>6005</th>\n",
       "      <td>2008.0</td>\n",
       "      <td>1.133532</td>\n",
       "      <td>1.500000</td>\n",
       "      <td>NaN</td>\n",
       "      <td>743.000360</td>\n",
       "      <td>NaN</td>\n",
       "      <td>2.850608</td>\n",
       "    </tr>\n",
       "    <tr>\n",
       "      <th>6007</th>\n",
       "      <td>2008.0</td>\n",
       "      <td>1.482147</td>\n",
       "      <td>1.500000</td>\n",
       "      <td>NaN</td>\n",
       "      <td>1579.113707</td>\n",
       "      <td>NaN</td>\n",
       "      <td>0.955509</td>\n",
       "    </tr>\n",
       "    <tr>\n",
       "      <th>6009</th>\n",
       "      <td>2008.0</td>\n",
       "      <td>1.011205</td>\n",
       "      <td>1.500000</td>\n",
       "      <td>NaN</td>\n",
       "      <td>170.188279</td>\n",
       "      <td>NaN</td>\n",
       "      <td>3.591678</td>\n",
       "    </tr>\n",
       "  </tbody>\n",
       "</table>\n",
       "</div>"
      ],
      "text/plain": [
       "       years   Arsenic      DEHP  Halo-Acetic Acid     Nitrates  \\\n",
       "fips                                                              \n",
       "6001  2008.0  1.003892  1.555572               NaN   427.179037   \n",
       "6003  2008.0  1.000000  1.500000               NaN    48.636260   \n",
       "6005  2008.0  1.133532  1.500000               NaN   743.000360   \n",
       "6007  2008.0  1.482147  1.500000               NaN  1579.113707   \n",
       "6009  2008.0  1.011205  1.500000               NaN   170.188279   \n",
       "\n",
       "      Trihalomethane   Uranium  \n",
       "fips                            \n",
       "6001             NaN  0.966338  \n",
       "6003             NaN  1.478053  \n",
       "6005             NaN  2.850608  \n",
       "6007             NaN  0.955509  \n",
       "6009             NaN  3.591678  "
      ]
     },
     "execution_count": 566,
     "metadata": {},
     "output_type": "execute_result"
    }
   ],
   "source": [
    "change = (chemical_df[chemical_df['years'] == 2016] - chemical_df[chemical_df['years'] == 2010]) / 6 #/ chemical_df[chemical_df['years'] == 2010]\n",
    "average = chemical_df.groupby('fips').mean()\n",
    "mean_occupation = occupation_df.groupby('fips').mean()\n",
    "average.head()\n",
    "# mean_occupation.head()"
   ]
  },
  {
   "cell_type": "code",
   "execution_count": 561,
   "metadata": {},
   "outputs": [
    {
     "data": {
      "text/html": [
       "<div>\n",
       "<style>\n",
       "    .dataframe thead tr:only-child th {\n",
       "        text-align: right;\n",
       "    }\n",
       "\n",
       "    .dataframe thead th {\n",
       "        text-align: left;\n",
       "    }\n",
       "\n",
       "    .dataframe tbody tr th {\n",
       "        vertical-align: top;\n",
       "    }\n",
       "</style>\n",
       "<table border=\"1\" class=\"dataframe\">\n",
       "  <thead>\n",
       "    <tr style=\"text-align: right;\">\n",
       "      <th></th>\n",
       "      <th>years</th>\n",
       "      <th>Arsenic</th>\n",
       "      <th>DEHP</th>\n",
       "      <th>Halo-Acetic Acid</th>\n",
       "      <th>Nitrates</th>\n",
       "      <th>Trihalomethane</th>\n",
       "      <th>Uranium</th>\n",
       "      <th>total_med</th>\n",
       "    </tr>\n",
       "    <tr>\n",
       "      <th>fips</th>\n",
       "      <th></th>\n",
       "      <th></th>\n",
       "      <th></th>\n",
       "      <th></th>\n",
       "      <th></th>\n",
       "      <th></th>\n",
       "      <th></th>\n",
       "      <th></th>\n",
       "    </tr>\n",
       "  </thead>\n",
       "  <tbody>\n",
       "    <tr>\n",
       "      <th>6001</th>\n",
       "      <td>2000</td>\n",
       "      <td>1.014271</td>\n",
       "      <td>1.500000</td>\n",
       "      <td>NaN</td>\n",
       "      <td>347.241137</td>\n",
       "      <td>NaN</td>\n",
       "      <td>1.617374</td>\n",
       "      <td>NaN</td>\n",
       "    </tr>\n",
       "    <tr>\n",
       "      <th>6001</th>\n",
       "      <td>2001</td>\n",
       "      <td>1.014283</td>\n",
       "      <td>1.500000</td>\n",
       "      <td>NaN</td>\n",
       "      <td>370.584590</td>\n",
       "      <td>NaN</td>\n",
       "      <td>0.640457</td>\n",
       "      <td>NaN</td>\n",
       "    </tr>\n",
       "    <tr>\n",
       "      <th>6001</th>\n",
       "      <td>2002</td>\n",
       "      <td>1.006312</td>\n",
       "      <td>1.561274</td>\n",
       "      <td>NaN</td>\n",
       "      <td>489.199983</td>\n",
       "      <td>NaN</td>\n",
       "      <td>1.900092</td>\n",
       "      <td>NaN</td>\n",
       "    </tr>\n",
       "    <tr>\n",
       "      <th>6001</th>\n",
       "      <td>2003</td>\n",
       "      <td>1.000000</td>\n",
       "      <td>1.500000</td>\n",
       "      <td>NaN</td>\n",
       "      <td>477.853148</td>\n",
       "      <td>NaN</td>\n",
       "      <td>0.777385</td>\n",
       "      <td>NaN</td>\n",
       "    </tr>\n",
       "    <tr>\n",
       "      <th>6001</th>\n",
       "      <td>2004</td>\n",
       "      <td>1.001428</td>\n",
       "      <td>1.500000</td>\n",
       "      <td>NaN</td>\n",
       "      <td>504.301684</td>\n",
       "      <td>NaN</td>\n",
       "      <td>1.280558</td>\n",
       "      <td>NaN</td>\n",
       "    </tr>\n",
       "  </tbody>\n",
       "</table>\n",
       "</div>"
      ],
      "text/plain": [
       "      years   Arsenic      DEHP  Halo-Acetic Acid    Nitrates  Trihalomethane  \\\n",
       "fips                                                                            \n",
       "6001   2000  1.014271  1.500000               NaN  347.241137             NaN   \n",
       "6001   2001  1.014283  1.500000               NaN  370.584590             NaN   \n",
       "6001   2002  1.006312  1.561274               NaN  489.199983             NaN   \n",
       "6001   2003  1.000000  1.500000               NaN  477.853148             NaN   \n",
       "6001   2004  1.001428  1.500000               NaN  504.301684             NaN   \n",
       "\n",
       "       Uranium  total_med  \n",
       "fips                       \n",
       "6001  1.617374        NaN  \n",
       "6001  0.640457        NaN  \n",
       "6001  1.900092        NaN  \n",
       "6001  0.777385        NaN  \n",
       "6001  1.280558        NaN  "
      ]
     },
     "execution_count": 561,
     "metadata": {},
     "output_type": "execute_result"
    }
   ],
   "source": [
    "income_chemical = pd.concat([new_df.loc[:, 'years':'Uranium'], new_df.loc[:, 'total_med']], axis=1)\n",
    "income_chemical.head()"
   ]
  },
  {
   "cell_type": "code",
   "execution_count": 579,
   "metadata": {},
   "outputs": [
    {
     "data": {
      "text/html": [
       "<div>\n",
       "<style>\n",
       "    .dataframe thead tr:only-child th {\n",
       "        text-align: right;\n",
       "    }\n",
       "\n",
       "    .dataframe thead th {\n",
       "        text-align: left;\n",
       "    }\n",
       "\n",
       "    .dataframe tbody tr th {\n",
       "        vertical-align: top;\n",
       "    }\n",
       "</style>\n",
       "<table border=\"1\" class=\"dataframe\">\n",
       "  <thead>\n",
       "    <tr style=\"text-align: right;\">\n",
       "      <th></th>\n",
       "      <th>years</th>\n",
       "      <th>Arsenic</th>\n",
       "      <th>DEHP</th>\n",
       "      <th>Halo-Acetic Acid</th>\n",
       "      <th>Nitrates</th>\n",
       "      <th>Trihalomethane</th>\n",
       "      <th>Uranium</th>\n",
       "      <th>income_bucket</th>\n",
       "    </tr>\n",
       "    <tr>\n",
       "      <th>fips</th>\n",
       "      <th></th>\n",
       "      <th></th>\n",
       "      <th></th>\n",
       "      <th></th>\n",
       "      <th></th>\n",
       "      <th></th>\n",
       "      <th></th>\n",
       "      <th></th>\n",
       "    </tr>\n",
       "  </thead>\n",
       "  <tbody>\n",
       "    <tr>\n",
       "      <th>6001</th>\n",
       "      <td>2008.0</td>\n",
       "      <td>1.003892</td>\n",
       "      <td>1.555572</td>\n",
       "      <td>NaN</td>\n",
       "      <td>427.179037</td>\n",
       "      <td>NaN</td>\n",
       "      <td>0.966338</td>\n",
       "      <td>3.0</td>\n",
       "    </tr>\n",
       "    <tr>\n",
       "      <th>6003</th>\n",
       "      <td>2008.0</td>\n",
       "      <td>1.000000</td>\n",
       "      <td>1.500000</td>\n",
       "      <td>NaN</td>\n",
       "      <td>48.636260</td>\n",
       "      <td>NaN</td>\n",
       "      <td>1.478053</td>\n",
       "      <td>2.0</td>\n",
       "    </tr>\n",
       "    <tr>\n",
       "      <th>6005</th>\n",
       "      <td>2008.0</td>\n",
       "      <td>1.133532</td>\n",
       "      <td>1.500000</td>\n",
       "      <td>NaN</td>\n",
       "      <td>743.000360</td>\n",
       "      <td>NaN</td>\n",
       "      <td>2.850608</td>\n",
       "      <td>3.0</td>\n",
       "    </tr>\n",
       "    <tr>\n",
       "      <th>6007</th>\n",
       "      <td>2008.0</td>\n",
       "      <td>1.482147</td>\n",
       "      <td>1.500000</td>\n",
       "      <td>NaN</td>\n",
       "      <td>1579.113707</td>\n",
       "      <td>NaN</td>\n",
       "      <td>0.955509</td>\n",
       "      <td>1.0</td>\n",
       "    </tr>\n",
       "    <tr>\n",
       "      <th>6009</th>\n",
       "      <td>2008.0</td>\n",
       "      <td>1.011205</td>\n",
       "      <td>1.500000</td>\n",
       "      <td>NaN</td>\n",
       "      <td>170.188279</td>\n",
       "      <td>NaN</td>\n",
       "      <td>3.591678</td>\n",
       "      <td>3.0</td>\n",
       "    </tr>\n",
       "  </tbody>\n",
       "</table>\n",
       "</div>"
      ],
      "text/plain": [
       "       years   Arsenic      DEHP  Halo-Acetic Acid     Nitrates  \\\n",
       "fips                                                              \n",
       "6001  2008.0  1.003892  1.555572               NaN   427.179037   \n",
       "6003  2008.0  1.000000  1.500000               NaN    48.636260   \n",
       "6005  2008.0  1.133532  1.500000               NaN   743.000360   \n",
       "6007  2008.0  1.482147  1.500000               NaN  1579.113707   \n",
       "6009  2008.0  1.011205  1.500000               NaN   170.188279   \n",
       "\n",
       "      Trihalomethane   Uranium  income_bucket  \n",
       "fips                                           \n",
       "6001             NaN  0.966338            3.0  \n",
       "6003             NaN  1.478053            2.0  \n",
       "6005             NaN  2.850608            3.0  \n",
       "6007             NaN  0.955509            1.0  \n",
       "6009             NaN  3.591678            3.0  "
      ]
     },
     "execution_count": 579,
     "metadata": {},
     "output_type": "execute_result"
    }
   ],
   "source": [
    "# combined = pd.concat([chemical_df, mean_occupation], axis=1)\n",
    "# combined['income_bucket'] = (0 if combined['total_med'] < 25000 else 1 if combined['total_med'] < 30000 else 2 if combined['total_med'] < 35000 else 3)\n",
    "# combined['income_bucket'] = combined['total_med'] < 25000\n",
    "# def bucket\n",
    "def bucket(x):\n",
    "    if x < 25000:\n",
    "        return 0\n",
    "    elif x < 30000:\n",
    "        return 1\n",
    "    elif x < 35000:\n",
    "        return 2\n",
    "    elif x > 35000:\n",
    "        return 3\n",
    "new_df['income_bucket'] = new_df['total_med'].apply(bucket)\n",
    "new_df.head()\n",
    "change['income_bucket'] = mean_occupation['total_med'].apply(bucket)\n",
    "change.head()\n",
    "average['income_bucket'] = mean_occupation['total_med'].apply(bucket)\n",
    "average.head()"
   ]
  },
  {
   "cell_type": "code",
   "execution_count": 548,
   "metadata": {
    "collapsed": true
   },
   "outputs": [],
   "source": [
    "from scipy import stats"
   ]
  },
  {
   "cell_type": "code",
   "execution_count": 568,
   "metadata": {},
   "outputs": [
    {
     "name": "stdout",
     "output_type": "stream",
     "text": [
      "Arsenic\n"
     ]
    },
    {
     "data": {
      "image/png": "[encoded data removed]",
      "text/plain": [
       "<matplotlib.figure.Figure at 0x270141412b0>"
      ]
     },
     "metadata": {},
     "output_type": "display_data"
    },
    {
     "name": "stdout",
     "output_type": "stream",
     "text": [
      "LinregressResult(slope=0.53100680275704049, intercept=1.2811975477527167, rvalue=0.0643845693443309, pvalue=0.015679792683806468, stderr=0.21949447973030004)\n",
      "DEHP\n"
     ]
    },
    {
     "data": {
      "image/png": "[encoded data removed]",
      "text/plain": [
       "<matplotlib.figure.Figure at 0x27018e9fcf8>"
      ]
     },
     "metadata": {},
     "output_type": "display_data"
    },
    {
     "name": "stdout",
     "output_type": "stream",
     "text": [
      "LinregressResult(slope=0.20872204060054178, intercept=0.44420511076244196, rvalue=0.085586858768494339, pvalue=0.0029337483441608551, stderr=0.070024739139112335)\n",
      "Halo-Acetic Acid\n"
     ]
    },
    {
     "data": {
      "image/png": "[encoded data removed]",
      "text/plain": [
       "<matplotlib.figure.Figure at 0x27018e12550>"
      ]
     },
     "metadata": {},
     "output_type": "display_data"
    },
    {
     "name": "stdout",
     "output_type": "stream",
     "text": [
      "LinregressResult(slope=-0.61031492256366637, intercept=17.545475011458215, rvalue=-0.036352903728632369, pvalue=0.16826689917596388, stderr=0.44274177859650193)\n",
      "Nitrates\n"
     ]
    },
    {
     "data": {
      "image/png": "[encoded data removed]",
      "text/plain": [
       "<matplotlib.figure.Figure at 0x27018e35b00>"
      ]
     },
     "metadata": {},
     "output_type": "display_data"
    },
    {
     "name": "stdout",
     "output_type": "stream",
     "text": [
      "LinregressResult(slope=105.6818502957057, intercept=862.84632539146514, rvalue=0.073993725886523753, pvalue=0.0065298931841440491, stderr=38.794343122424038)\n",
      "Trihalomethane\n"
     ]
    },
    {
     "data": {
      "image/png": "[encoded data removed]",
      "text/plain": [
       "<matplotlib.figure.Figure at 0x27018f35438>"
      ]
     },
     "metadata": {},
     "output_type": "display_data"
    },
    {
     "name": "stdout",
     "output_type": "stream",
     "text": [
      "LinregressResult(slope=-0.35923925908444954, intercept=29.041050802689639, rvalue=-0.015387287341566008, pvalue=0.55987447471847873, stderr=0.61601755468626862)\n",
      "Uranium\n"
     ]
    },
    {
     "data": {
      "image/png": "[encoded data removed]",
      "text/plain": [
       "<matplotlib.figure.Figure at 0x27018f5ab38>"
      ]
     },
     "metadata": {},
     "output_type": "display_data"
    },
    {
     "name": "stdout",
     "output_type": "stream",
     "text": [
      "LinregressResult(slope=-0.046005595580887529, intercept=3.4327276612185811, rvalue=-0.0059799156472927703, pvalue=0.84696895852722642, stderr=0.23832739983171292)\n"
     ]
    }
   ],
   "source": [
    "# linreg = LinearRegression()\n",
    "for chemical in ['Arsenic', 'DEHP', 'Halo-Acetic Acid', 'Nitrates', 'Trihalomethane','Uranium']:\n",
    "    print(chemical)\n",
    "    plt.scatter(average['income_bucket'], average[chemical])\n",
    "    plt.show()\n",
    "    vals = average[chemical] == average[chemical]\n",
    "    print(stats.linregress(list(average['income_bucket'][vals]), list(average[chemical][vals])))\n",
    "# list(change['Arsenic'])\n",
    "# list(change['income_bucket'])"
   ]
  },
  {
   "cell_type": "code",
   "execution_count": 569,
   "metadata": {},
   "outputs": [
    {
     "name": "stdout",
     "output_type": "stream",
     "text": [
      "Arsenic\n",
      "LinregressResult(slope=-0.11648766348083173, intercept=0.084778345892068341, rvalue=-0.060493119603150819, pvalue=0.073862279302109923, stderr=0.065090801665624254)\n",
      "DEHP\n",
      "LinregressResult(slope=-0.034322821091018516, intercept=0.049696825035360527, rvalue=-0.086109726527284713, pvalue=0.050817093143221449, stderr=0.017532989111399812)\n",
      "Halo-Acetic Acid\n",
      "LinregressResult(slope=0.083734198416843944, intercept=-0.38806514375573947, rvalue=0.024294777359444412, pvalue=0.4276920829156573, stderr=0.10553174888089116)\n",
      "Nitrates\n",
      "LinregressResult(slope=2.0178677340597613, intercept=3.052059976031956, rvalue=0.018041350296585698, pvalue=0.53513598614388536, stderr=3.2527016341463941)\n",
      "Trihalomethane\n",
      "LinregressResult(slope=0.06276638698006097, intercept=-0.2270403663654631, rvalue=0.022323287296709016, pvalue=0.46572571660474471, stderr=0.086015182946889576)\n",
      "Uranium\n",
      "LinregressResult(slope=-0.051670145380896711, intercept=-0.093504467382100623, rvalue=-0.021839579207037739, pvalue=0.72241749425168522, stderr=0.14530109371116517)\n"
     ]
    },
    {
     "data": {
      "image/png": "[encoded data removed]",
      "text/plain": [
       "<matplotlib.figure.Figure at 0x27018f462e8>"
      ]
     },
     "metadata": {},
     "output_type": "display_data"
    }
   ],
   "source": [
    "# linreg = LinearRegression()\n",
    "for chemical in ['Arsenic', 'DEHP', 'Halo-Acetic Acid', 'Nitrates', 'Trihalomethane','Uranium']:\n",
    "    print(chemical)\n",
    "    plt.scatter(change['income_bucket'], change[chemical])\n",
    "#     plt.show()\n",
    "    vals = change[chemical] == change[chemical]\n",
    "    print(stats.linregress(list(change['income_bucket'][vals]), list(change[chemical][vals])))\n",
    "# list(change['Arsenic'])\n",
    "# list(change['income_bucket'])"
   ]
  },
  {
   "cell_type": "code",
   "execution_count": 605,
   "metadata": {},
   "outputs": [
    {
     "data": {
      "text/html": [
       "<div>\n",
       "<style>\n",
       "    .dataframe thead tr:only-child th {\n",
       "        text-align: right;\n",
       "    }\n",
       "\n",
       "    .dataframe thead th {\n",
       "        text-align: left;\n",
       "    }\n",
       "\n",
       "    .dataframe tbody tr th {\n",
       "        vertical-align: top;\n",
       "    }\n",
       "</style>\n",
       "<table border=\"1\" class=\"dataframe\">\n",
       "  <thead>\n",
       "    <tr style=\"text-align: right;\">\n",
       "      <th></th>\n",
       "      <th>Arsenic</th>\n",
       "      <th>DEHP</th>\n",
       "      <th>Halo-Acetic Acid</th>\n",
       "      <th>Nitrates</th>\n",
       "      <th>Trihalomethane</th>\n",
       "      <th>Uranium</th>\n",
       "    </tr>\n",
       "    <tr>\n",
       "      <th>years</th>\n",
       "      <th></th>\n",
       "      <th></th>\n",
       "      <th></th>\n",
       "      <th></th>\n",
       "      <th></th>\n",
       "      <th></th>\n",
       "    </tr>\n",
       "  </thead>\n",
       "  <tbody>\n",
       "    <tr>\n",
       "      <th>2010</th>\n",
       "      <td>1.858653</td>\n",
       "      <td>0.556525</td>\n",
       "      <td>15.967994</td>\n",
       "      <td>997.074639</td>\n",
       "      <td>27.850839</td>\n",
       "      <td>3.024514</td>\n",
       "    </tr>\n",
       "    <tr>\n",
       "      <th>2011</th>\n",
       "      <td>1.593138</td>\n",
       "      <td>1.585205</td>\n",
       "      <td>16.563942</td>\n",
       "      <td>1112.595043</td>\n",
       "      <td>29.528502</td>\n",
       "      <td>1.965555</td>\n",
       "    </tr>\n",
       "    <tr>\n",
       "      <th>2012</th>\n",
       "      <td>1.829637</td>\n",
       "      <td>0.549210</td>\n",
       "      <td>16.382018</td>\n",
       "      <td>1055.278723</td>\n",
       "      <td>31.593398</td>\n",
       "      <td>3.267723</td>\n",
       "    </tr>\n",
       "    <tr>\n",
       "      <th>2013</th>\n",
       "      <td>1.618845</td>\n",
       "      <td>0.495612</td>\n",
       "      <td>15.802864</td>\n",
       "      <td>1071.509921</td>\n",
       "      <td>28.327484</td>\n",
       "      <td>3.055611</td>\n",
       "    </tr>\n",
       "    <tr>\n",
       "      <th>2014</th>\n",
       "      <td>1.566770</td>\n",
       "      <td>0.551265</td>\n",
       "      <td>14.691224</td>\n",
       "      <td>1127.394640</td>\n",
       "      <td>27.087649</td>\n",
       "      <td>3.124469</td>\n",
       "    </tr>\n",
       "    <tr>\n",
       "      <th>2015</th>\n",
       "      <td>1.628207</td>\n",
       "      <td>0.523620</td>\n",
       "      <td>15.122550</td>\n",
       "      <td>1168.365605</td>\n",
       "      <td>26.877812</td>\n",
       "      <td>3.764129</td>\n",
       "    </tr>\n",
       "    <tr>\n",
       "      <th>2016</th>\n",
       "      <td>1.519531</td>\n",
       "      <td>0.500272</td>\n",
       "      <td>14.858037</td>\n",
       "      <td>1165.281121</td>\n",
       "      <td>26.216126</td>\n",
       "      <td>3.200168</td>\n",
       "    </tr>\n",
       "  </tbody>\n",
       "</table>\n",
       "</div>"
      ],
      "text/plain": [
       "        Arsenic      DEHP  Halo-Acetic Acid     Nitrates  Trihalomethane  \\\n",
       "years                                                                      \n",
       "2010   1.858653  0.556525         15.967994   997.074639       27.850839   \n",
       "2011   1.593138  1.585205         16.563942  1112.595043       29.528502   \n",
       "2012   1.829637  0.549210         16.382018  1055.278723       31.593398   \n",
       "2013   1.618845  0.495612         15.802864  1071.509921       28.327484   \n",
       "2014   1.566770  0.551265         14.691224  1127.394640       27.087649   \n",
       "2015   1.628207  0.523620         15.122550  1168.365605       26.877812   \n",
       "2016   1.519531  0.500272         14.858037  1165.281121       26.216126   \n",
       "\n",
       "        Uranium  \n",
       "years            \n",
       "2010   3.024514  \n",
       "2011   1.965555  \n",
       "2012   3.267723  \n",
       "2013   3.055611  \n",
       "2014   3.124469  \n",
       "2015   3.764129  \n",
       "2016   3.200168  "
      ]
     },
     "execution_count": 605,
     "metadata": {},
     "output_type": "execute_result"
    }
   ],
   "source": [
    "bucket_0 = new_df[new_df['income_bucket'] == 0].groupby('years').mean().loc[:,'Arsenic':'Uranium']\n",
    "bucket_1 = new_df[new_df['income_bucket'] == 1].groupby('years').mean().loc[:,'Arsenic':'Uranium']\n",
    "bucket_2 = new_df[new_df['income_bucket'] == 2].groupby('years').mean().loc[:,'Arsenic':'Uranium']\n",
    "bucket_3 = new_df[new_df['income_bucket'] == 3].groupby('years').mean().loc[:,'Arsenic':'Uranium']\n",
    "# bucket_0 = new.groupby('years').mean().loc[:,'Arsenic':'Uranium']\n",
    "bucket_2"
   ]
  },
  {
   "cell_type": "code",
   "execution_count": 624,
   "metadata": {},
   "outputs": [
    {
     "data": {
      "text/plain": [
       "<matplotlib.legend.Legend at 0x2701cc16940>"
      ]
     },
     "execution_count": 624,
     "metadata": {},
     "output_type": "execute_result"
    },
    {
     "data": {
      "image/png": "[encoded data removed]",
      "text/plain": [
       "<matplotlib.figure.Figure at 0x2701cae0c18>"
      ]
     },
     "metadata": {},
     "output_type": "display_data"
    }
   ],
   "source": [
    "from numpy.polynomial.polynomial import polyfit\n",
    "\n",
    "chemical = 'Trihalomethane'\n",
    "frame = bucket_0\n",
    "x = np.arange(2010, 2017)\n",
    "\n",
    "b, m = polyfit(frame.index, frame[chemical], 1)\n",
    "plt.scatter(frame.index, frame[chemical], label=None)\n",
    "plt.plot(x, b + m * x, '-', label = '<25000')\n",
    "\n",
    "b,m = polyfit(bucket_1.index, bucket_1[chemical],1)\n",
    "plt.scatter(bucket_1.index, bucket_1[chemical],label=None)\n",
    "plt.plot(x, b + m * x, '-', label = '25000-30000')\n",
    "\n",
    "# b,m = polyfit(bucket_2.index, bucket_2[chemical],1)\n",
    "# plt.scatter(bucket_2.index, bucket_2[chemical],label=None)\n",
    "# plt.plot(x, b + m * x, '-', label = '30000-35000')\n",
    "\n",
    "# b,m = polyfit(bucket_3.index, bucket_3[chemical],1)\n",
    "# plt.scatter(bucket_3.index, bucket_3[chemical],label=None)\n",
    "# plt.plot(x, b + m * x, '-', label = '>35000')\n",
    "\n",
    "plt.xlabel('year')\n",
    "plt.ylabel('micrograms/L')\n",
    "plt.title(chemical+ ' concentration over year')\n",
    "plt.legend()"
   ]
  },
  {
   "cell_type": "code",
   "execution_count": 590,
   "metadata": {},
   "outputs": [
    {
     "name": "stdout",
     "output_type": "stream",
     "text": [
      "\n",
      "Arsenic\n",
      "LinregressResult(slope=0.0062284819176132945, intercept=-10.755368540468357, rvalue=0.098731565850758915, pvalue=0.83320382608877974, stderr=0.028074631344711061)\n",
      "bucket 0 0.0987315658508\n",
      "\n",
      "LinregressResult(slope=-0.059507139570818469, intercept=121.40925320368507, rvalue=-0.89525478285161486, pvalue=0.0064413050611546218, stderr=0.013244584062724565)\n",
      "bucket 1 -0.895254782852\n",
      "\n",
      "LinregressResult(slope=-0.043217711422502081, intercept=88.656507596918672, rvalue=-0.70969277773325512, pvalue=0.074043189761515152, stderr=0.019186437187865803)\n",
      "bucket 2 -0.709692777733\n",
      "\n",
      "LinregressResult(slope=-0.39445389165209144, intercept=795.96455846150855, rvalue=-0.81150988532300217, pvalue=0.026690147088254536, stderr=0.12702291411217001)\n",
      "bucket 3 -0.811509885323\n",
      "\n",
      "DEHP\n",
      "LinregressResult(slope=-0.015313585549496718, intercept=31.273150586541018, rvalue=-0.42114083147199155, pvalue=0.3467264822155901, stderr=0.014749236981952706)\n",
      "bucket 0 -0.421140831472\n",
      "\n",
      "LinregressResult(slope=0.010069497325819235, intercept=-19.716635870272, rvalue=0.45305243905504733, pvalue=0.30731479147453578, stderr=0.0088611034091068217)\n",
      "bucket 1 0.453052439055\n",
      "\n",
      "LinregressResult(slope=-0.081781204809773911, intercept=165.30580951562527, rvalue=-0.44188157805160777, pvalue=0.32087853240911762, stderr=0.07424899528251841)\n",
      "bucket 2 -0.441881578052\n",
      "\n",
      "LinregressResult(slope=-0.38908911980310662, intercept=784.57790057572208, rvalue=-0.46724942359361105, pvalue=0.29044770886925675, stderr=0.32925262654508752)\n",
      "bucket 3 -0.467249423594\n",
      "\n",
      "Halo-Acetic Acid\n",
      "LinregressResult(slope=-1.2563567007706686, intercept=2544.7772672181281, rvalue=-0.86723889841967916, pvalue=0.011468921662795718, stderr=0.32257044681825908)\n",
      "bucket 0 -0.86723889842\n",
      "\n",
      "LinregressResult(slope=-0.34780391888030504, intercept=717.15130468933967, rvalue=-0.9145150581888748, pvalue=0.0039173607459703523, stderr=0.068807029884919629)\n",
      "bucket 1 -0.914515058189\n",
      "\n",
      "LinregressResult(slope=-0.28226599732426866, intercept=583.82839968096027, rvalue=-0.82014989064840482, pvalue=0.02385342797822285, stderr=0.088062145332713587)\n",
      "bucket 2 -0.820149890648\n",
      "\n",
      "LinregressResult(slope=-0.082815282499170806, intercept=181.36508205970259, rvalue=-0.23520970824862919, pvalue=0.61164880239396424, stderr=0.15304240211540468)\n",
      "bucket 3 -0.235209708249\n",
      "\n",
      "Nitrates\n",
      "LinregressResult(slope=-58.426696088349303, intercept=118250.343922534, rvalue=-0.97044553888607565, pvalue=0.0002838575684224095, stderr=6.497539058917817)\n",
      "bucket 0 -0.970445538886\n",
      "\n",
      "LinregressResult(slope=-16.475930077573263, intercept=34165.476911260848, rvalue=-0.79508336703316829, pvalue=0.032581929257499538, stderr=5.6206065719058396)\n",
      "bucket 1 -0.795083367033\n",
      "\n",
      "LinregressResult(slope=24.581303131136426, intercept=-48382.520389830992, rvalue=0.85306439244912624, pvalue=0.014662243451389766, stderr=6.7242966986649897)\n",
      "bucket 2 0.853064392449\n",
      "\n",
      "LinregressResult(slope=29.076594912952949, intercept=-57482.989645226713, rvalue=0.83488308317362458, pvalue=0.019426495528573041, stderr=8.5730008393393113)\n",
      "bucket 3 0.834883083174\n",
      "\n",
      "Trihalomethane\n",
      "LinregressResult(slope=-1.6375202115901633, intercept=3321.9847521363381, rvalue=-0.8878519800917124, pvalue=0.0076090248880842527, stderr=0.37952542412042067)\n",
      "bucket 0 -0.887851980092\n",
      "\n",
      "LinregressResult(slope=-0.47817589942305549, intercept=992.23908964305031, rvalue=-0.68808759374135287, pvalue=0.087462800584821032, stderr=0.22551361526204972)\n",
      "bucket 1 -0.688087593741\n",
      "\n",
      "LinregressResult(slope=-0.52540243036334744, intercept=1085.8467795564864, rvalue=-0.61646902810505222, pvalue=0.14039521161141513, stderr=0.30010948905798757)\n",
      "bucket 2 -0.616469028105\n",
      "\n",
      "LinregressResult(slope=-0.16386407596433486, intercept=356.62364064112319, rvalue=-0.50954057063095459, pvalue=0.242750799396242, stderr=0.1237496334299899)\n",
      "bucket 3 -0.509540570631\n",
      "\n",
      "Uranium\n",
      "LinregressResult(slope=0.3974593190304147, intercept=-795.10461424799598, rvalue=0.65773686166643253, pvalue=0.10831771823260228, stderr=0.20356043093321041)\n",
      "bucket 0 0.657736861666\n",
      "\n",
      "LinregressResult(slope=-0.39165909455641451, intercept=792.68424778841768, rvalue=-0.59634831203755989, pvalue=0.15756757579546074, stderr=0.23577102644656736)\n",
      "bucket 1 -0.596348312038\n",
      "\n",
      "LinregressResult(slope=0.14217350944485632, intercept=-283.13782157381831, rvalue=0.56678757827738846, pvalue=0.18458215623686375, stderr=0.092420618000740418)\n",
      "bucket 2 0.566787578277\n",
      "\n",
      "LinregressResult(slope=-0.28647227622680632, intercept=579.67231928099807, rvalue=-0.84323593657994689, pvalue=0.01714303761702278, stderr=0.081669935100263158)\n",
      "bucket 3 -0.84323593658\n"
     ]
    }
   ],
   "source": [
    "time = pd.Series([2010,2011,2012,2013,2014,2015,2016], index=bucket_0.index)\n",
    "for chem in bucket_0.columns:\n",
    "    print()\n",
    "    print(chem)\n",
    "    print(stats.linregress(time, bucket_0[chem]))\n",
    "    print('bucket 0', bucket_0[chem].corr(time))\n",
    "    print()\n",
    "    print(stats.linregress(time, bucket_1[chem]))\n",
    "    print('bucket 1', bucket_1[chem].corr(time))\n",
    "    print()\n",
    "    print(stats.linregress(time, bucket_2[chem]))\n",
    "    print('bucket 2', bucket_2[chem].corr(time))\n",
    "    print()\n",
    "    print(stats.linregress(time, bucket_3[chem]))\n",
    "    print('bucket 3', bucket_3[chem].corr(time))       "
   ]
  },
  {
   "cell_type": "code",
   "execution_count": 430,
   "metadata": {},
   "outputs": [
    {
     "data": {
      "text/plain": [
       "years                                6.000000\n",
       "Arsenic                             -0.236239\n",
       "DEHP                                 0.062446\n",
       "Halo-Acetic Acid                    -1.736970\n",
       "Nitrates                            42.779246\n",
       "Trihalomethane                      -0.829722\n",
       "Uranium                             -1.662743\n",
       "years                             2008.488908\n",
       "total_med                        29334.307205\n",
       "total_employed                  131648.071118\n",
       "agriculture                       2512.275888\n",
       "construction                      8095.756042\n",
       "manufacturing                    13416.389825\n",
       "wholesale_trade                   3752.158415\n",
       "retail_trade                     15925.128114\n",
       "transport_utilities               6550.461959\n",
       "information                       2752.381480\n",
       "finance_insurance_realestate      7917.395796\n",
       "prof_scientific_waste            13745.236498\n",
       "edu_health                       30654.437568\n",
       "arts_recreation                  13726.032542\n",
       "other                             6715.676284\n",
       "public_admin                      5884.740709\n",
       "dtype: float64"
      ]
     },
     "execution_count": 430,
     "metadata": {},
     "output_type": "execute_result"
    }
   ],
   "source": [
    "combined[combined['total_med'] < 25000].mean()\n",
    "combined[(combined['total_med'] > 25000) & (combined['total_med'] < 35000)].mean()\n",
    "combined[combined['total_med'] > 35000].mean()"
   ]
  },
  {
   "cell_type": "code",
   "execution_count": 410,
   "metadata": {},
   "outputs": [
    {
     "name": "stdout",
     "output_type": "stream",
     "text": [
      "Arsenic\n"
     ]
    },
    {
     "data": {
      "image/png": "[encoded data removed]",
      "text/plain": [
       "<matplotlib.figure.Figure at 0x270099b74a8>"
      ]
     },
     "metadata": {},
     "output_type": "display_data"
    },
    {
     "name": "stdout",
     "output_type": "stream",
     "text": [
      "DEHP\n"
     ]
    },
    {
     "data": {
      "image/png": "[encoded data removed]",
      "text/plain": [
       "<matplotlib.figure.Figure at 0x2700a5f5828>"
      ]
     },
     "metadata": {},
     "output_type": "display_data"
    },
    {
     "name": "stdout",
     "output_type": "stream",
     "text": [
      "Halo-Acetic Acid\n"
     ]
    },
    {
     "data": {
      "image/png": "[encoded data removed]",
      "text/plain": [
       "<matplotlib.figure.Figure at 0x2700a630550>"
      ]
     },
     "metadata": {},
     "output_type": "display_data"
    },
    {
     "name": "stdout",
     "output_type": "stream",
     "text": [
      "Nitrates\n"
     ]
    },
    {
     "data": {
      "image/png": "[encoded data removed]",
      "text/plain": [
       "<matplotlib.figure.Figure at 0x2700a6bda58>"
      ]
     },
     "metadata": {},
     "output_type": "display_data"
    },
    {
     "name": "stdout",
     "output_type": "stream",
     "text": [
      "Trihalomethane\n"
     ]
    },
    {
     "data": {
      "image/png": "[encoded data removed]",
      "text/plain": [
       "<matplotlib.figure.Figure at 0x2700a714b70>"
      ]
     },
     "metadata": {},
     "output_type": "display_data"
    },
    {
     "name": "stdout",
     "output_type": "stream",
     "text": [
      "Uranium\n"
     ]
    },
    {
     "data": {
      "image/png": "[encoded data removed]",
      "text/plain": [
       "<matplotlib.figure.Figure at 0x2700a70d438>"
      ]
     },
     "metadata": {},
     "output_type": "display_data"
    }
   ],
   "source": [
    "for chemical in ['Arsenic', 'DEHP', 'Halo-Acetic Acid', 'Nitrates', 'Trihalomethane','Uranium']:\n",
    "    print(chemical)\n",
    "    plt.scatter(combined['total_med'], combined[chemical])\n",
    "    plt.ylim(np.percentile(df[chemical].dropna(), 0), np.percentile(df[chemical].dropna(),99))\n",
    "    plt.show()"
   ]
  }
 ],
 "metadata": {
  "kernelspec": {
   "display_name": "Python 3",
   "language": "python",
   "name": "python3"
  },
  "language_info": {
   "codemirror_mode": {
    "name": "ipython",
    "version": 3
   },
   "file_extension": ".py",
   "mimetype": "text/x-python",
   "name": "python",
   "nbconvert_exporter": "python",
   "pygments_lexer": "ipython3",
   "version": "3.6.3"
  }
 },
 "nbformat": 4,
 "nbformat_minor": 2
}
